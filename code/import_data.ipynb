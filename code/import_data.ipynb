{
 "cells": [
  {
   "cell_type": "code",
   "execution_count": 4,
   "metadata": {},
   "outputs": [],
   "source": [
    "import netCDF4 as nc\n",
    "\n",
    "fn = '../GEBCO-Data\\GEBCO_28_Feb_2025_5615bda1e072/gebco_2024_n38.2361_s33.7129_w-73.5773_e-70.4713.nc'\n",
    "ds = nc.Dataset(fn)"
   ]
  },
  {
   "cell_type": "code",
   "execution_count": 6,
   "metadata": {},
   "outputs": [
    {
     "name": "stdout",
     "output_type": "stream",
     "text": [
      "<class 'netCDF4.Dataset'>\n",
      "root group (NETCDF3_CLASSIC data model, file format NETCDF3):\n",
      "    title: The GEBCO_2024 Grid - a continuous terrain model for oceans and land at 15 arc-second intervals\n",
      "    summary: The GEBCO_2024 Grid is a continuous, global terrain model for ocean and land with a spatial resolution of 15 arc seconds.The grid uses as a base-map Version 2.6 of the SRTM15+ data set (Tozer et al, 2019). This data set is a fusion of land topography with measured and estimated seafloor topography. It is augmented with gridded bathymetric data sets developed as part of the Nippon Foundation-GEBCO Seabed 2030 Project.\n",
      "    keywords: BATHYMETRY/SEAFLOOR TOPOGRAPHY, DIGITAL ELEVATION/DIGITAL TERRAIN MODELS\n",
      "    Conventions: CF-1.6, ACDD-1.3\n",
      "    id: DOI: 10.5285/1c44ce99-0a0d-5f4f-e063-7086abc0ea0f\n",
      "    naming_authority: https://dx.doi.org\n",
      "    history: Information on the development of the data set and the source data sets included in the grid can be found in the data set documentation available from https://www.gebco.net\n",
      "    source: The GEBCO_2024 Grid is the 2024 release of the  global bathymetric product published by the General Bathymetric Chart of the Oceans (GEBCO) and has been developed through the Nippon Foundation-GEBCO Seabed 2030 Project. This is a collaborative project between the Nippon Foundation of Japan and GEBCO. The Seabed 2030 Project aims to bring together all available bathymetric data to produce the definitive map of the world ocean floor and make it available to all.\n",
      "    comment: The data in the GEBCO_2024 Grid should not be used for navigation or any purpose relating to safety at sea.\n",
      "    license: The GEBCO Grid is placed in the public domain and may be used free of charge. Use of the GEBCO Grid indicates that the user accepts the conditions of use and disclaimer information: https://www.gebco.net/\n",
      "    date_created: 2024-07-04\n",
      "    creator_name: GEBCO through the Nippon Foundation-GEBCO Seabed 2030 Project\n",
      "    creator_email: gdacc@seabed2030.org\n",
      "    creator_url: https://www.gebco.net\n",
      "    institution: On behalf of the General Bathymetric Chart of the Oceans (GEBCO), the data are held at the British Oceanographic Data Centre (BODC).\n",
      "    project: Nippon Foundation - GEBCO Seabed2030 Project\n",
      "    creator_type: International organisation\n",
      "    geospatial_bounds: [-180.  -90.  180.   90.]\n",
      "    geospatial_bounds_crs: WGS84\n",
      "    geospatial_bounds_vertical_crs: EPSG:5831\n",
      "    geospatial_lat_min: -90.0\n",
      "    geospatial_lat_max: 90.0\n",
      "    geospatial_lat_units: degrees_north\n",
      "    geospatial_lat_resolution: 0.004166666666666667\n",
      "    geospatial_lon_min: -180.0\n",
      "    geospatial_lon_max: 180.0\n",
      "    geospatial_lon_units: degrees_east\n",
      "    geospatial_lon_resolution: 0.004166666666666667\n",
      "    geospatial_vertical_min: -10919.0\n",
      "    geospatial_vertical_max: 8627.0\n",
      "    geospatial_vertical_units: meters\n",
      "    geospatial_vertical_resolution: 1.0\n",
      "    geospatial_vertical_positive: up\n",
      "    identifier_product_doi: DOI: 10.5285/1c44ce99-0a0d-5f4f-e063-7086abc0ea0f\n",
      "    references: DOI: 10.5285/1c44ce99-0a0d-5f4f-e063-7086abc0ea0f\n",
      "    node_offset: 1.0\n",
      "    dimensions(sizes): lat(1086), lon(746)\n",
      "    variables(dimensions): float64 lat(lat), float64 lon(lon), int16 elevation(lat, lon)\n",
      "    groups: \n"
     ]
    }
   ],
   "source": [
    "print(ds)"
   ]
  },
  {
   "cell_type": "code",
   "execution_count": 7,
   "metadata": {},
   "outputs": [
    {
     "name": "stdout",
     "output_type": "stream",
     "text": [
      "{'title': 'The GEBCO_2024 Grid - a continuous terrain model for oceans and land at 15 arc-second intervals', 'summary': 'The GEBCO_2024 Grid is a continuous, global terrain model for ocean and land with a spatial resolution of 15 arc seconds.The grid uses as a base-map Version 2.6 of the SRTM15+ data set (Tozer et al, 2019). This data set is a fusion of land topography with measured and estimated seafloor topography. It is augmented with gridded bathymetric data sets developed as part of the Nippon Foundation-GEBCO Seabed 2030 Project.', 'keywords': 'BATHYMETRY/SEAFLOOR TOPOGRAPHY, DIGITAL ELEVATION/DIGITAL TERRAIN MODELS', 'Conventions': 'CF-1.6, ACDD-1.3', 'id': 'DOI: 10.5285/1c44ce99-0a0d-5f4f-e063-7086abc0ea0f', 'naming_authority': 'https://dx.doi.org', 'history': 'Information on the development of the data set and the source data sets included in the grid can be found in the data set documentation available from https://www.gebco.net', 'source': 'The GEBCO_2024 Grid is the 2024 release of the  global bathymetric product published by the General Bathymetric Chart of the Oceans (GEBCO) and has been developed through the Nippon Foundation-GEBCO Seabed 2030 Project. This is a collaborative project between the Nippon Foundation of Japan and GEBCO. The Seabed 2030 Project aims to bring together all available bathymetric data to produce the definitive map of the world ocean floor and make it available to all.', 'comment': 'The data in the GEBCO_2024 Grid should not be used for navigation or any purpose relating to safety at sea.', 'license': 'The GEBCO Grid is placed in the public domain and may be used free of charge. Use of the GEBCO Grid indicates that the user accepts the conditions of use and disclaimer information: https://www.gebco.net/', 'date_created': '2024-07-04', 'creator_name': 'GEBCO through the Nippon Foundation-GEBCO Seabed 2030 Project', 'creator_email': 'gdacc@seabed2030.org', 'creator_url': 'https://www.gebco.net', 'institution': 'On behalf of the General Bathymetric Chart of the Oceans (GEBCO), the data are held at the British Oceanographic Data Centre (BODC).', 'project': 'Nippon Foundation - GEBCO Seabed2030 Project', 'creator_type': 'International organisation', 'geospatial_bounds': array([-180.,  -90.,  180.,   90.]), 'geospatial_bounds_crs': 'WGS84', 'geospatial_bounds_vertical_crs': 'EPSG:5831', 'geospatial_lat_min': -90.0, 'geospatial_lat_max': 90.0, 'geospatial_lat_units': 'degrees_north', 'geospatial_lat_resolution': 0.004166666666666667, 'geospatial_lon_min': -180.0, 'geospatial_lon_max': 180.0, 'geospatial_lon_units': 'degrees_east', 'geospatial_lon_resolution': 0.004166666666666667, 'geospatial_vertical_min': -10919.0, 'geospatial_vertical_max': 8627.0, 'geospatial_vertical_units': 'meters', 'geospatial_vertical_resolution': 1.0, 'geospatial_vertical_positive': 'up', 'identifier_product_doi': 'DOI: 10.5285/1c44ce99-0a0d-5f4f-e063-7086abc0ea0f', 'references': 'DOI: 10.5285/1c44ce99-0a0d-5f4f-e063-7086abc0ea0f', 'node_offset': 1.0}\n"
     ]
    }
   ],
   "source": [
    "# To print metadata:\n",
    "print(ds.__dict__)"
   ]
  },
  {
   "cell_type": "code",
   "execution_count": 10,
   "metadata": {},
   "outputs": [
    {
     "name": "stdout",
     "output_type": "stream",
     "text": [
      "\"<class 'netCDF4.Dimension'>\": name = 'lat', size = 1086\n",
      "\"<class 'netCDF4.Dimension'>\": name = 'lon', size = 746\n",
      "Latitude dimensions:  \"<class 'netCDF4.Dimension'>\": name = 'lat', size = 1086\n"
     ]
    }
   ],
   "source": [
    "# Accessing Dimensions\n",
    "for dim in ds.dimensions.values():\n",
    "    print(dim)\n",
    "\n",
    "print(\"Latitude dimensions: \", ds.dimensions['lat'])"
   ]
  },
  {
   "cell_type": "code",
   "execution_count": null,
   "metadata": {},
   "outputs": [],
   "source": []
  }
 ],
 "metadata": {
  "kernelspec": {
   "display_name": "Python 3",
   "language": "python",
   "name": "python3"
  },
  "language_info": {
   "codemirror_mode": {
    "name": "ipython",
    "version": 3
   },
   "file_extension": ".py",
   "mimetype": "text/x-python",
   "name": "python",
   "nbconvert_exporter": "python",
   "pygments_lexer": "ipython3",
   "version": "3.11.1"
  }
 },
 "nbformat": 4,
 "nbformat_minor": 2
}
